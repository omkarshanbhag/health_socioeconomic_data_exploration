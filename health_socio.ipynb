{
 "cells": [
  {
   "cell_type": "code",
   "execution_count": 1,
   "metadata": {},
   "outputs": [],
   "source": [
    "# Don't change this cell; just run it. \n",
    "\n",
    "import numpy as np\n",
    "from datascience import *\n",
    "\n",
    "%matplotlib inline\n",
    "import matplotlib.pyplot as plots\n",
    "plots.style.use('fivethirtyeight')"
   ]
  },
  {
   "cell_type": "code",
   "execution_count": 3,
   "metadata": {},
   "outputs": [
    {
     "data": {
      "text/html": [
       "<table border=\"1\" class=\"dataframe\">\n",
       "    <thead>\n",
       "        <tr>\n",
       "            <th>FIPS</th> <th>State</th> <th>County</th> <th>PCT_DIABETES_ADULTS08</th> <th>PCT_DIABETES_ADULTS13</th> <th>PCT_OBESE_ADULTS08</th> <th>PCT_OBESE_ADULTS13</th> <th>PCT_HSPA15</th> <th>RECFAC09</th> <th>RECFAC14</th> <th>PCH_RECFAC_09_14</th> <th>RECFACPTH09</th> <th>RECFACPTH14</th> <th>PCH_RECFACPTH_09_14</th>\n",
       "        </tr>\n",
       "    </thead>\n",
       "    <tbody>\n",
       "        <tr>\n",
       "            <td>1001</td> <td>AL   </td> <td>Autauga </td> <td>11.4                 </td> <td>13                   </td> <td>31.5              </td> <td>34.1              </td> <td>25.4      </td> <td>4       </td> <td>5       </td> <td>25              </td> <td>0.0738894  </td> <td>0.0902609  </td> <td>22.1568            </td>\n",
       "        </tr>\n",
       "    </tbody>\n",
       "        <tr>\n",
       "            <td>1003</td> <td>AL   </td> <td>Baldwin </td> <td>9.8                  </td> <td>10.4                 </td> <td>26.2              </td> <td>27.4              </td> <td>25.4      </td> <td>18      </td> <td>25      </td> <td>38.8889         </td> <td>0.100331   </td> <td>0.124931   </td> <td>24.5184            </td>\n",
       "        </tr>\n",
       "    </tbody>\n",
       "        <tr>\n",
       "            <td>1005</td> <td>AL   </td> <td>Barbour </td> <td>13.6                 </td> <td>18.4                 </td> <td>37.6              </td> <td>44.4              </td> <td>25.4      </td> <td>1       </td> <td>0       </td> <td>-100            </td> <td>0.0361572  </td> <td>0          </td> <td>-100               </td>\n",
       "        </tr>\n",
       "    </tbody>\n",
       "        <tr>\n",
       "            <td>1007</td> <td>AL   </td> <td>Bibb    </td> <td>11.1                 </td> <td>14.8                 </td> <td>32.3              </td> <td>40.3              </td> <td>25.4      </td> <td>1       </td> <td>1       </td> <td>0               </td> <td>0.0435901  </td> <td>0.0444326  </td> <td>1.93282            </td>\n",
       "        </tr>\n",
       "    </tbody>\n",
       "        <tr>\n",
       "            <td>1009</td> <td>AL   </td> <td>Blount  </td> <td>11.4                 </td> <td>14.1                 </td> <td>31.9              </td> <td>34.6              </td> <td>25.4      </td> <td>3       </td> <td>3       </td> <td>0               </td> <td>0.0523186  </td> <td>0.051976   </td> <td>-0.654897          </td>\n",
       "        </tr>\n",
       "    </tbody>\n",
       "        <tr>\n",
       "            <td>1011</td> <td>AL   </td> <td>Bullock </td> <td>14.9                 </td> <td>19.6                 </td> <td>37.8              </td> <td>43                </td> <td>25.4      </td> <td>0       </td> <td>0       </td> <td>0               </td> <td>0          </td> <td>0          </td> <td>0                  </td>\n",
       "        </tr>\n",
       "    </tbody>\n",
       "        <tr>\n",
       "            <td>1013</td> <td>AL   </td> <td>Butler  </td> <td>15.1                 </td> <td>17.7                 </td> <td>36.8              </td> <td>36.3              </td> <td>25.4      </td> <td>0       </td> <td>1       </td> <td>nan             </td> <td>0          </td> <td>0.0492708  </td> <td>nan                </td>\n",
       "        </tr>\n",
       "    </tbody>\n",
       "        <tr>\n",
       "            <td>1015</td> <td>AL   </td> <td>Calhoun </td> <td>14.5                 </td> <td>14.9                 </td> <td>33.5              </td> <td>32.2              </td> <td>25.4      </td> <td>7       </td> <td>7       </td> <td>0               </td> <td>0.0591401  </td> <td>0.0603886  </td> <td>2.11101            </td>\n",
       "        </tr>\n",
       "    </tbody>\n",
       "        <tr>\n",
       "            <td>1017</td> <td>AL   </td> <td>Chambers</td> <td>16.1                 </td> <td>16.4                 </td> <td>35.5              </td> <td>39.7              </td> <td>25.4      </td> <td>2       </td> <td>0       </td> <td>-100            </td> <td>0.0581666  </td> <td>0          </td> <td>-100               </td>\n",
       "        </tr>\n",
       "    </tbody>\n",
       "        <tr>\n",
       "            <td>1019</td> <td>AL   </td> <td>Cherokee</td> <td>13.6                 </td> <td>13.3                 </td> <td>31.5              </td> <td>33.6              </td> <td>25.4      </td> <td>1       </td> <td>1       </td> <td>0               </td> <td>0.0386787  </td> <td>0.0384069  </td> <td>-0.702846          </td>\n",
       "        </tr>\n",
       "    </tbody>\n",
       "</table>\n",
       "<p>... (3133 rows omitted)</p"
      ],
      "text/plain": [
       "FIPS | State | County   | PCT_DIABETES_ADULTS08 | PCT_DIABETES_ADULTS13 | PCT_OBESE_ADULTS08 | PCT_OBESE_ADULTS13 | PCT_HSPA15 | RECFAC09 | RECFAC14 | PCH_RECFAC_09_14 | RECFACPTH09 | RECFACPTH14 | PCH_RECFACPTH_09_14\n",
       "1001 | AL    | Autauga  | 11.4                  | 13                    | 31.5               | 34.1               | 25.4       | 4        | 5        | 25               | 0.0738894   | 0.0902609   | 22.1568\n",
       "1003 | AL    | Baldwin  | 9.8                   | 10.4                  | 26.2               | 27.4               | 25.4       | 18       | 25       | 38.8889          | 0.100331    | 0.124931    | 24.5184\n",
       "1005 | AL    | Barbour  | 13.6                  | 18.4                  | 37.6               | 44.4               | 25.4       | 1        | 0        | -100             | 0.0361572   | 0           | -100\n",
       "1007 | AL    | Bibb     | 11.1                  | 14.8                  | 32.3               | 40.3               | 25.4       | 1        | 1        | 0                | 0.0435901   | 0.0444326   | 1.93282\n",
       "1009 | AL    | Blount   | 11.4                  | 14.1                  | 31.9               | 34.6               | 25.4       | 3        | 3        | 0                | 0.0523186   | 0.051976    | -0.654897\n",
       "1011 | AL    | Bullock  | 14.9                  | 19.6                  | 37.8               | 43                 | 25.4       | 0        | 0        | 0                | 0           | 0           | 0\n",
       "1013 | AL    | Butler   | 15.1                  | 17.7                  | 36.8               | 36.3               | 25.4       | 0        | 1        | nan              | 0           | 0.0492708   | nan\n",
       "1015 | AL    | Calhoun  | 14.5                  | 14.9                  | 33.5               | 32.2               | 25.4       | 7        | 7        | 0                | 0.0591401   | 0.0603886   | 2.11101\n",
       "1017 | AL    | Chambers | 16.1                  | 16.4                  | 35.5               | 39.7               | 25.4       | 2        | 0        | -100             | 0.0581666   | 0           | -100\n",
       "1019 | AL    | Cherokee | 13.6                  | 13.3                  | 31.5               | 33.6               | 25.4       | 1        | 1        | 0                | 0.0386787   | 0.0384069   | -0.702846\n",
       "... (3133 rows omitted)"
      ]
     },
     "execution_count": 3,
     "metadata": {},
     "output_type": "execute_result"
    }
   ],
   "source": [
    "#Dataset of differing health conditions of counties in the US \n",
    "counties_health = Table.read_table(\"Counties_Health.csv\")\n",
    "counties_health"
   ]
  },
  {
   "cell_type": "code",
   "execution_count": 4,
   "metadata": {},
   "outputs": [
    {
     "data": {
      "text/html": [
       "<table border=\"1\" class=\"dataframe\">\n",
       "    <thead>\n",
       "        <tr>\n",
       "            <th>FIPS</th> <th>State</th> <th>County</th> <th>PCT_NHWHITE10</th> <th>PCT_NHBLACK10</th> <th>PCT_HISP10</th> <th>PCT_NHASIAN10</th> <th>PCT_NHNA10</th> <th>PCT_NHPI10</th> <th>PCT_65OLDER10</th> <th>PCT_18YOUNGER10</th> <th>MEDHHINC15</th> <th>POVRATE15</th> <th>PERPOV10</th> <th>CHILDPOVRATE15</th> <th>PERCHLDPOV10</th> <th>METRO13</th> <th>POPLOSS10</th>\n",
       "        </tr>\n",
       "    </thead>\n",
       "    <tbody>\n",
       "        <tr>\n",
       "            <td>1001</td> <td>AL   </td> <td>Autauga </td> <td>77.2462      </td> <td>17.5826      </td> <td>2.40054   </td> <td>0.855766     </td> <td>0.397647  </td> <td>0.0403145 </td> <td>11.9954      </td> <td>26.778         </td> <td>56580     </td> <td>12.7     </td> <td>0       </td> <td>18.8          </td> <td>0           </td> <td>1      </td> <td>0        </td>\n",
       "        </tr>\n",
       "    </tbody>\n",
       "        <tr>\n",
       "            <td>1003</td> <td>AL   </td> <td>Baldwin </td> <td>83.5048      </td> <td>9.30842      </td> <td>4.38482   </td> <td>0.735193     </td> <td>0.628755  </td> <td>0.0433435 </td> <td>16.7712      </td> <td>22.9874        </td> <td>52387     </td> <td>12.9     </td> <td>0       </td> <td>19.6          </td> <td>0           </td> <td>1      </td> <td>0        </td>\n",
       "        </tr>\n",
       "    </tbody>\n",
       "        <tr>\n",
       "            <td>1005</td> <td>AL   </td> <td>Barbour </td> <td>46.7531      </td> <td>46.6912      </td> <td>5.05154   </td> <td>0.3897       </td> <td>0.218524  </td> <td>0.0874094 </td> <td>14.2368      </td> <td>21.907         </td> <td>31433     </td> <td>32       </td> <td>1       </td> <td>45.2          </td> <td>1           </td> <td>0      </td> <td>0        </td>\n",
       "        </tr>\n",
       "    </tbody>\n",
       "        <tr>\n",
       "            <td>1007</td> <td>AL   </td> <td>Bibb    </td> <td>75.0207      </td> <td>21.9245      </td> <td>1.77177   </td> <td>0.096007     </td> <td>0.279293  </td> <td>0.0305477 </td> <td>12.6816      </td> <td>22.6969        </td> <td>40767     </td> <td>22.2     </td> <td>0       </td> <td>29.3          </td> <td>1           </td> <td>1      </td> <td>0        </td>\n",
       "        </tr>\n",
       "    </tbody>\n",
       "        <tr>\n",
       "            <td>1009</td> <td>AL   </td> <td>Blount  </td> <td>88.8873      </td> <td>1.26304      </td> <td>8.0702    </td> <td>0.200621     </td> <td>0.497191  </td> <td>0.0314016 </td> <td>14.7221      </td> <td>24.6084        </td> <td>50487     </td> <td>14.7     </td> <td>0       </td> <td>22.2          </td> <td>0           </td> <td>1      </td> <td>0        </td>\n",
       "        </tr>\n",
       "    </tbody>\n",
       "        <tr>\n",
       "            <td>1011</td> <td>AL   </td> <td>Bullock </td> <td>21.9168      </td> <td>69.9743      </td> <td>7.1193    </td> <td>0.183251     </td> <td>0.183251  </td> <td>0.0366502 </td> <td>13.4598      </td> <td>22.265         </td> <td>28251     </td> <td>39.6     </td> <td>1       </td> <td>51.2          </td> <td>1           </td> <td>0      </td> <td>0        </td>\n",
       "        </tr>\n",
       "    </tbody>\n",
       "        <tr>\n",
       "            <td>1013</td> <td>AL   </td> <td>Butler  </td> <td>54.0602      </td> <td>43.19        </td> <td>0.911825  </td> <td>0.830668     </td> <td>0.281663  </td> <td>0.0334177 </td> <td>16.6563      </td> <td>24.1371        </td> <td>33868     </td> <td>25.8     </td> <td>1       </td> <td>36            </td> <td>1           </td> <td>0      </td> <td>1        </td>\n",
       "        </tr>\n",
       "    </tbody>\n",
       "        <tr>\n",
       "            <td>1015</td> <td>AL   </td> <td>Calhoun </td> <td>73.6135      </td> <td>20.3901      </td> <td>3.28324   </td> <td>0.699997     </td> <td>0.404817  </td> <td>0.0792767 </td> <td>14.3288      </td> <td>22.8772        </td> <td>42091     </td> <td>20       </td> <td>0       </td> <td>30.7          </td> <td>0           </td> <td>1      </td> <td>0        </td>\n",
       "        </tr>\n",
       "    </tbody>\n",
       "        <tr>\n",
       "            <td>1017</td> <td>AL   </td> <td>Chambers</td> <td>58.1412      </td> <td>38.5971      </td> <td>1.56656   </td> <td>0.485167     </td> <td>0.166594  </td> <td>0.0204589 </td> <td>16.6769      </td> <td>22.5135        </td> <td>35560     </td> <td>22.4     </td> <td>0       </td> <td>34.4          </td> <td>1           </td> <td>0      </td> <td>1        </td>\n",
       "        </tr>\n",
       "    </tbody>\n",
       "        <tr>\n",
       "            <td>1019</td> <td>AL   </td> <td>Cherokee</td> <td>92.0736      </td> <td>4.64042      </td> <td>1.23129   </td> <td>0.188541     </td> <td>0.469429  </td> <td>0.00384778</td> <td>17.896       </td> <td>21.4168        </td> <td>39144     </td> <td>19.4     </td> <td>0       </td> <td>30.2          </td> <td>0           </td> <td>0      </td> <td>0        </td>\n",
       "        </tr>\n",
       "    </tbody>\n",
       "</table>\n",
       "<p>... (3133 rows omitted)</p"
      ],
      "text/plain": [
       "FIPS | State | County   | PCT_NHWHITE10 | PCT_NHBLACK10 | PCT_HISP10 | PCT_NHASIAN10 | PCT_NHNA10 | PCT_NHPI10 | PCT_65OLDER10 | PCT_18YOUNGER10 | MEDHHINC15 | POVRATE15 | PERPOV10 | CHILDPOVRATE15 | PERCHLDPOV10 | METRO13 | POPLOSS10\n",
       "1001 | AL    | Autauga  | 77.2462       | 17.5826       | 2.40054    | 0.855766      | 0.397647   | 0.0403145  | 11.9954       | 26.778          | 56580      | 12.7      | 0        | 18.8           | 0            | 1       | 0\n",
       "1003 | AL    | Baldwin  | 83.5048       | 9.30842       | 4.38482    | 0.735193      | 0.628755   | 0.0433435  | 16.7712       | 22.9874         | 52387      | 12.9      | 0        | 19.6           | 0            | 1       | 0\n",
       "1005 | AL    | Barbour  | 46.7531       | 46.6912       | 5.05154    | 0.3897        | 0.218524   | 0.0874094  | 14.2368       | 21.907          | 31433      | 32        | 1        | 45.2           | 1            | 0       | 0\n",
       "1007 | AL    | Bibb     | 75.0207       | 21.9245       | 1.77177    | 0.096007      | 0.279293   | 0.0305477  | 12.6816       | 22.6969         | 40767      | 22.2      | 0        | 29.3           | 1            | 1       | 0\n",
       "1009 | AL    | Blount   | 88.8873       | 1.26304       | 8.0702     | 0.200621      | 0.497191   | 0.0314016  | 14.7221       | 24.6084         | 50487      | 14.7      | 0        | 22.2           | 0            | 1       | 0\n",
       "1011 | AL    | Bullock  | 21.9168       | 69.9743       | 7.1193     | 0.183251      | 0.183251   | 0.0366502  | 13.4598       | 22.265          | 28251      | 39.6      | 1        | 51.2           | 1            | 0       | 0\n",
       "1013 | AL    | Butler   | 54.0602       | 43.19         | 0.911825   | 0.830668      | 0.281663   | 0.0334177  | 16.6563       | 24.1371         | 33868      | 25.8      | 1        | 36             | 1            | 0       | 1\n",
       "1015 | AL    | Calhoun  | 73.6135       | 20.3901       | 3.28324    | 0.699997      | 0.404817   | 0.0792767  | 14.3288       | 22.8772         | 42091      | 20        | 0        | 30.7           | 0            | 1       | 0\n",
       "1017 | AL    | Chambers | 58.1412       | 38.5971       | 1.56656    | 0.485167      | 0.166594   | 0.0204589  | 16.6769       | 22.5135         | 35560      | 22.4      | 0        | 34.4           | 1            | 0       | 1\n",
       "1019 | AL    | Cherokee | 92.0736       | 4.64042       | 1.23129    | 0.188541      | 0.469429   | 0.00384778 | 17.896        | 21.4168         | 39144      | 19.4      | 0        | 30.2           | 0            | 0       | 0\n",
       "... (3133 rows omitted)"
      ]
     },
     "execution_count": 4,
     "metadata": {},
     "output_type": "execute_result"
    }
   ],
   "source": [
    "counties_socioeconomic = Table.read_table(\"Counties_Socioeconomic.csv\")\n",
    "counties_socioeconomic"
   ]
  },
  {
   "cell_type": "code",
   "execution_count": null,
   "metadata": {
    "collapsed": true
   },
   "outputs": [],
   "source": []
  }
 ],
 "metadata": {
  "kernelspec": {
   "display_name": "Python 3",
   "language": "python",
   "name": "python3"
  },
  "language_info": {
   "codemirror_mode": {
    "name": "ipython",
    "version": 3
   },
   "file_extension": ".py",
   "mimetype": "text/x-python",
   "name": "python",
   "nbconvert_exporter": "python",
   "pygments_lexer": "ipython3",
   "version": "3.6.1"
  }
 },
 "nbformat": 4,
 "nbformat_minor": 2
}
